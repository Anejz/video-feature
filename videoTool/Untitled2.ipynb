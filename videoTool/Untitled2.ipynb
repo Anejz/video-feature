{
  "nbformat": 4,
  "nbformat_minor": 0,
  "metadata": {
    "colab": {
      "provenance": []
    },
    "kernelspec": {
      "name": "python3",
      "display_name": "Python 3"
    },
    "language_info": {
      "name": "python"
    }
  },
  "cells": [
    {
      "cell_type": "code",
      "execution_count": null,
      "metadata": {
        "id": "ogiJHB22zBhx"
      },
      "outputs": [],
      "source": [
        "%%bash\n",
        "pip install pandas\n",
        "pip install git+https://github.com/openai/whisper.git\n",
        "pip install pytube\n",
        "pip install numpy\n",
        "pip install pinecone-client"
      ]
    },
    {
      "cell_type": "code",
      "source": [
        "# @title\n",
        "import os\n",
        "import torch\n",
        "import whisper\n",
        "import pinecone\n",
        "import numpy as np\n",
        "import pandas as pd\n",
        "from pytube import YouTube"
      ],
      "metadata": {
        "id": "ifBHwIxv2CWG"
      },
      "execution_count": null,
      "outputs": []
    },
    {
      "cell_type": "code",
      "source": [
        "def video_to_audio(video_url, destination):\n",
        "    # Get the video\n",
        "    video = YouTube(video_url)\n",
        "    # Convert video to Audio\n",
        "    audio = video.streams.filter(only_audio=True).first()\n",
        "    # Save to destination\n",
        "    output = audio.download(output_path = destination)\n",
        "    name, ext = os.path.splitext(output)\n",
        "    new_file = name + '.mp3'\n",
        "    # Replace spaces with \"_\"\n",
        "    new_file = new_file.replace(\" \", \"_\")\n",
        "    # Change the name of the file\n",
        "    os.rename(output, new_file)\n",
        "    return new_file"
      ],
      "metadata": {
        "id": "IWqxwPJF2GYl"
      },
      "execution_count": null,
      "outputs": []
    },
    {
      "cell_type": "code",
      "source": [
        "!mkdir audio_data"
      ],
      "metadata": {
        "colab": {
          "base_uri": "https://localhost:8080/"
        },
        "id": "FlP9MgaW4Lm1",
        "outputId": "5e24b38c-a1b9-45b9-9d03-74e45141dad4"
      },
      "execution_count": null,
      "outputs": [
        {
          "output_type": "stream",
          "name": "stdout",
          "text": [
            "mkdir: cannot create directory ‘audio_data’: File exists\n"
          ]
        }
      ]
    },
    {
      "cell_type": "code",
      "source": [
        "# Create URL column\n",
        "audio_path = \"audio_data\""
      ],
      "metadata": {
        "id": "MAZCdZlv5byy"
      },
      "execution_count": null,
      "outputs": []
    },
    {
      "cell_type": "code",
      "source": [
        "# truncated list of links\n",
        "list_videos = [\"https://www.youtube.com/watch?v=CXiAoaMPXdU\"]\n",
        "# Create dataframe\n",
        "transcription_df = pd.DataFrame(list_videos, columns=['URLs'])\n",
        "transcription_df.head()"
      ],
      "metadata": {
        "colab": {
          "base_uri": "https://localhost:8080/",
          "height": 81
        },
        "id": "RPSwSSt15fKF",
        "outputId": "8394981f-1115-413a-f631-e171a34b78f1"
      },
      "execution_count": null,
      "outputs": [
        {
          "output_type": "execute_result",
          "data": {
            "text/plain": [
              "                                          URLs\n",
              "0  https://www.youtube.com/watch?v=CXiAoaMPXdU"
            ],
            "text/html": [
              "\n",
              "  <div id=\"df-57993985-6967-4ccd-a76d-ba0ab393b42c\" class=\"colab-df-container\">\n",
              "    <div>\n",
              "<style scoped>\n",
              "    .dataframe tbody tr th:only-of-type {\n",
              "        vertical-align: middle;\n",
              "    }\n",
              "\n",
              "    .dataframe tbody tr th {\n",
              "        vertical-align: top;\n",
              "    }\n",
              "\n",
              "    .dataframe thead th {\n",
              "        text-align: right;\n",
              "    }\n",
              "</style>\n",
              "<table border=\"1\" class=\"dataframe\">\n",
              "  <thead>\n",
              "    <tr style=\"text-align: right;\">\n",
              "      <th></th>\n",
              "      <th>URLs</th>\n",
              "    </tr>\n",
              "  </thead>\n",
              "  <tbody>\n",
              "    <tr>\n",
              "      <th>0</th>\n",
              "      <td>https://www.youtube.com/watch?v=CXiAoaMPXdU</td>\n",
              "    </tr>\n",
              "  </tbody>\n",
              "</table>\n",
              "</div>\n",
              "    <div class=\"colab-df-buttons\">\n",
              "\n",
              "  <div class=\"colab-df-container\">\n",
              "    <button class=\"colab-df-convert\" onclick=\"convertToInteractive('df-57993985-6967-4ccd-a76d-ba0ab393b42c')\"\n",
              "            title=\"Convert this dataframe to an interactive table.\"\n",
              "            style=\"display:none;\">\n",
              "\n",
              "  <svg xmlns=\"http://www.w3.org/2000/svg\" height=\"24px\" viewBox=\"0 -960 960 960\">\n",
              "    <path d=\"M120-120v-720h720v720H120Zm60-500h600v-160H180v160Zm220 220h160v-160H400v160Zm0 220h160v-160H400v160ZM180-400h160v-160H180v160Zm440 0h160v-160H620v160ZM180-180h160v-160H180v160Zm440 0h160v-160H620v160Z\"/>\n",
              "  </svg>\n",
              "    </button>\n",
              "\n",
              "  <style>\n",
              "    .colab-df-container {\n",
              "      display:flex;\n",
              "      gap: 12px;\n",
              "    }\n",
              "\n",
              "    .colab-df-convert {\n",
              "      background-color: #E8F0FE;\n",
              "      border: none;\n",
              "      border-radius: 50%;\n",
              "      cursor: pointer;\n",
              "      display: none;\n",
              "      fill: #1967D2;\n",
              "      height: 32px;\n",
              "      padding: 0 0 0 0;\n",
              "      width: 32px;\n",
              "    }\n",
              "\n",
              "    .colab-df-convert:hover {\n",
              "      background-color: #E2EBFA;\n",
              "      box-shadow: 0px 1px 2px rgba(60, 64, 67, 0.3), 0px 1px 3px 1px rgba(60, 64, 67, 0.15);\n",
              "      fill: #174EA6;\n",
              "    }\n",
              "\n",
              "    .colab-df-buttons div {\n",
              "      margin-bottom: 4px;\n",
              "    }\n",
              "\n",
              "    [theme=dark] .colab-df-convert {\n",
              "      background-color: #3B4455;\n",
              "      fill: #D2E3FC;\n",
              "    }\n",
              "\n",
              "    [theme=dark] .colab-df-convert:hover {\n",
              "      background-color: #434B5C;\n",
              "      box-shadow: 0px 1px 3px 1px rgba(0, 0, 0, 0.15);\n",
              "      filter: drop-shadow(0px 1px 2px rgba(0, 0, 0, 0.3));\n",
              "      fill: #FFFFFF;\n",
              "    }\n",
              "  </style>\n",
              "\n",
              "    <script>\n",
              "      const buttonEl =\n",
              "        document.querySelector('#df-57993985-6967-4ccd-a76d-ba0ab393b42c button.colab-df-convert');\n",
              "      buttonEl.style.display =\n",
              "        google.colab.kernel.accessAllowed ? 'block' : 'none';\n",
              "\n",
              "      async function convertToInteractive(key) {\n",
              "        const element = document.querySelector('#df-57993985-6967-4ccd-a76d-ba0ab393b42c');\n",
              "        const dataTable =\n",
              "          await google.colab.kernel.invokeFunction('convertToInteractive',\n",
              "                                                    [key], {});\n",
              "        if (!dataTable) return;\n",
              "\n",
              "        const docLinkHtml = 'Like what you see? Visit the ' +\n",
              "          '<a target=\"_blank\" href=https://colab.research.google.com/notebooks/data_table.ipynb>data table notebook</a>'\n",
              "          + ' to learn more about interactive tables.';\n",
              "        element.innerHTML = '';\n",
              "        dataTable['output_type'] = 'display_data';\n",
              "        await google.colab.output.renderOutput(dataTable, element);\n",
              "        const docLink = document.createElement('div');\n",
              "        docLink.innerHTML = docLinkHtml;\n",
              "        element.appendChild(docLink);\n",
              "      }\n",
              "    </script>\n",
              "  </div>\n",
              "\n",
              "    </div>\n",
              "  </div>\n"
            ],
            "application/vnd.google.colaboratory.intrinsic+json": {
              "type": "dataframe",
              "variable_name": "transcription_df",
              "summary": "{\n  \"name\": \"transcription_df\",\n  \"rows\": 1,\n  \"fields\": [\n    {\n      \"column\": \"URLs\",\n      \"properties\": {\n        \"dtype\": \"string\",\n        \"samples\": [\n          \"https://www.youtube.com/watch?v=CXiAoaMPXdU\"\n        ],\n        \"num_unique_values\": 1,\n        \"semantic_type\": \"\",\n        \"description\": \"\"\n      }\n    }\n  ]\n}"
            }
          },
          "metadata": {},
          "execution_count": 13
        }
      ]
    },
    {
      "cell_type": "code",
      "source": [
        "transcription_df[\"file_name\"] = transcription_df[\"URLs\"].apply(\n",
        "    lambda url: video_to_audio(url, audio_path)\n",
        ")\n",
        "transcription_df.head()"
      ],
      "metadata": {
        "colab": {
          "base_uri": "https://localhost:8080/",
          "height": 81
        },
        "id": "8kUQprM26K7z",
        "outputId": "15a95191-488e-47f9-ac3c-c24baf4cec38"
      },
      "execution_count": null,
      "outputs": [
        {
          "output_type": "execute_result",
          "data": {
            "text/plain": [
              "                                          URLs  \\\n",
              "0  https://www.youtube.com/watch?v=CXiAoaMPXdU   \n",
              "\n",
              "                                         file_name  \n",
              "0  /content/audio_data/Kaj_je_metoda_bisekcije.mp3  "
            ],
            "text/html": [
              "\n",
              "  <div id=\"df-6fad61a0-3b19-4c16-bbd7-7418a9486d91\" class=\"colab-df-container\">\n",
              "    <div>\n",
              "<style scoped>\n",
              "    .dataframe tbody tr th:only-of-type {\n",
              "        vertical-align: middle;\n",
              "    }\n",
              "\n",
              "    .dataframe tbody tr th {\n",
              "        vertical-align: top;\n",
              "    }\n",
              "\n",
              "    .dataframe thead th {\n",
              "        text-align: right;\n",
              "    }\n",
              "</style>\n",
              "<table border=\"1\" class=\"dataframe\">\n",
              "  <thead>\n",
              "    <tr style=\"text-align: right;\">\n",
              "      <th></th>\n",
              "      <th>URLs</th>\n",
              "      <th>file_name</th>\n",
              "    </tr>\n",
              "  </thead>\n",
              "  <tbody>\n",
              "    <tr>\n",
              "      <th>0</th>\n",
              "      <td>https://www.youtube.com/watch?v=CXiAoaMPXdU</td>\n",
              "      <td>/content/audio_data/Kaj_je_metoda_bisekcije.mp3</td>\n",
              "    </tr>\n",
              "  </tbody>\n",
              "</table>\n",
              "</div>\n",
              "    <div class=\"colab-df-buttons\">\n",
              "\n",
              "  <div class=\"colab-df-container\">\n",
              "    <button class=\"colab-df-convert\" onclick=\"convertToInteractive('df-6fad61a0-3b19-4c16-bbd7-7418a9486d91')\"\n",
              "            title=\"Convert this dataframe to an interactive table.\"\n",
              "            style=\"display:none;\">\n",
              "\n",
              "  <svg xmlns=\"http://www.w3.org/2000/svg\" height=\"24px\" viewBox=\"0 -960 960 960\">\n",
              "    <path d=\"M120-120v-720h720v720H120Zm60-500h600v-160H180v160Zm220 220h160v-160H400v160Zm0 220h160v-160H400v160ZM180-400h160v-160H180v160Zm440 0h160v-160H620v160ZM180-180h160v-160H180v160Zm440 0h160v-160H620v160Z\"/>\n",
              "  </svg>\n",
              "    </button>\n",
              "\n",
              "  <style>\n",
              "    .colab-df-container {\n",
              "      display:flex;\n",
              "      gap: 12px;\n",
              "    }\n",
              "\n",
              "    .colab-df-convert {\n",
              "      background-color: #E8F0FE;\n",
              "      border: none;\n",
              "      border-radius: 50%;\n",
              "      cursor: pointer;\n",
              "      display: none;\n",
              "      fill: #1967D2;\n",
              "      height: 32px;\n",
              "      padding: 0 0 0 0;\n",
              "      width: 32px;\n",
              "    }\n",
              "\n",
              "    .colab-df-convert:hover {\n",
              "      background-color: #E2EBFA;\n",
              "      box-shadow: 0px 1px 2px rgba(60, 64, 67, 0.3), 0px 1px 3px 1px rgba(60, 64, 67, 0.15);\n",
              "      fill: #174EA6;\n",
              "    }\n",
              "\n",
              "    .colab-df-buttons div {\n",
              "      margin-bottom: 4px;\n",
              "    }\n",
              "\n",
              "    [theme=dark] .colab-df-convert {\n",
              "      background-color: #3B4455;\n",
              "      fill: #D2E3FC;\n",
              "    }\n",
              "\n",
              "    [theme=dark] .colab-df-convert:hover {\n",
              "      background-color: #434B5C;\n",
              "      box-shadow: 0px 1px 3px 1px rgba(0, 0, 0, 0.15);\n",
              "      filter: drop-shadow(0px 1px 2px rgba(0, 0, 0, 0.3));\n",
              "      fill: #FFFFFF;\n",
              "    }\n",
              "  </style>\n",
              "\n",
              "    <script>\n",
              "      const buttonEl =\n",
              "        document.querySelector('#df-6fad61a0-3b19-4c16-bbd7-7418a9486d91 button.colab-df-convert');\n",
              "      buttonEl.style.display =\n",
              "        google.colab.kernel.accessAllowed ? 'block' : 'none';\n",
              "\n",
              "      async function convertToInteractive(key) {\n",
              "        const element = document.querySelector('#df-6fad61a0-3b19-4c16-bbd7-7418a9486d91');\n",
              "        const dataTable =\n",
              "          await google.colab.kernel.invokeFunction('convertToInteractive',\n",
              "                                                    [key], {});\n",
              "        if (!dataTable) return;\n",
              "\n",
              "        const docLinkHtml = 'Like what you see? Visit the ' +\n",
              "          '<a target=\"_blank\" href=https://colab.research.google.com/notebooks/data_table.ipynb>data table notebook</a>'\n",
              "          + ' to learn more about interactive tables.';\n",
              "        element.innerHTML = '';\n",
              "        dataTable['output_type'] = 'display_data';\n",
              "        await google.colab.output.renderOutput(dataTable, element);\n",
              "        const docLink = document.createElement('div');\n",
              "        docLink.innerHTML = docLinkHtml;\n",
              "        element.appendChild(docLink);\n",
              "      }\n",
              "    </script>\n",
              "  </div>\n",
              "\n",
              "    </div>\n",
              "  </div>\n"
            ],
            "application/vnd.google.colaboratory.intrinsic+json": {
              "type": "dataframe",
              "variable_name": "transcription_df",
              "summary": "{\n  \"name\": \"transcription_df\",\n  \"rows\": 1,\n  \"fields\": [\n    {\n      \"column\": \"URLs\",\n      \"properties\": {\n        \"dtype\": \"string\",\n        \"samples\": [\n          \"https://www.youtube.com/watch?v=CXiAoaMPXdU\"\n        ],\n        \"num_unique_values\": 1,\n        \"semantic_type\": \"\",\n        \"description\": \"\"\n      }\n    },\n    {\n      \"column\": \"file_name\",\n      \"properties\": {\n        \"dtype\": \"string\",\n        \"samples\": [\n          \"/content/audio_data/Kaj_je_metoda_bisekcije.mp3\"\n        ],\n        \"num_unique_values\": 1,\n        \"semantic_type\": \"\",\n        \"description\": \"\"\n      }\n    }\n  ]\n}"
            }
          },
          "metadata": {},
          "execution_count": 14
        }
      ]
    },
    {
      "cell_type": "code",
      "source": [
        "!nvidia-smi"
      ],
      "metadata": {
        "colab": {
          "base_uri": "https://localhost:8080/"
        },
        "id": "6OIS-zx46NAT",
        "outputId": "1d57559f-b6c6-45d6-b6da-11dd1286dbc8"
      },
      "execution_count": null,
      "outputs": [
        {
          "output_type": "stream",
          "name": "stdout",
          "text": [
            "Fri Feb 16 22:01:13 2024       \n",
            "+---------------------------------------------------------------------------------------+\n",
            "| NVIDIA-SMI 535.104.05             Driver Version: 535.104.05   CUDA Version: 12.2     |\n",
            "|-----------------------------------------+----------------------+----------------------+\n",
            "| GPU  Name                 Persistence-M | Bus-Id        Disp.A | Volatile Uncorr. ECC |\n",
            "| Fan  Temp   Perf          Pwr:Usage/Cap |         Memory-Usage | GPU-Util  Compute M. |\n",
            "|                                         |                      |               MIG M. |\n",
            "|=========================================+======================+======================|\n",
            "|   0  Tesla T4                       Off | 00000000:00:04.0 Off |                    0 |\n",
            "| N/A   41C    P8               9W /  70W |      0MiB / 15360MiB |      0%      Default |\n",
            "|                                         |                      |                  N/A |\n",
            "+-----------------------------------------+----------------------+----------------------+\n",
            "                                                                                         \n",
            "+---------------------------------------------------------------------------------------+\n",
            "| Processes:                                                                            |\n",
            "|  GPU   GI   CI        PID   Type   Process name                            GPU Memory |\n",
            "|        ID   ID                                                             Usage      |\n",
            "|=======================================================================================|\n",
            "|  No running processes found                                                           |\n",
            "+---------------------------------------------------------------------------------------+\n"
          ]
        }
      ]
    },
    {
      "cell_type": "code",
      "source": [
        "# Set the device\n",
        "device = \"cuda\" if torch.cuda.is_available() else \"cpu\""
      ],
      "metadata": {
        "id": "hvtNEecq602B"
      },
      "execution_count": null,
      "outputs": []
    },
    {
      "cell_type": "code",
      "source": [
        "# Load the model\n",
        "whisper_model = whisper.load_model(\"large\", device=device)"
      ],
      "metadata": {
        "colab": {
          "base_uri": "https://localhost:8080/"
        },
        "id": "KC6n2Ti27FzM",
        "outputId": "6b2f3ab5-1cb5-4dc0-dc0f-eb96cff7c91d"
      },
      "execution_count": null,
      "outputs": [
        {
          "output_type": "stream",
          "name": "stderr",
          "text": [
            "100%|██████████████████████████████████████| 2.88G/2.88G [00:29<00:00, 105MiB/s]\n"
          ]
        }
      ]
    },
    {
      "cell_type": "code",
      "source": [
        "def audio_to_text(audio_file):\n",
        "   return whisper_model.transcribe(audio_file)[\"text\"]"
      ],
      "metadata": {
        "id": "F9P40WO186t0"
      },
      "execution_count": null,
      "outputs": []
    },
    {
      "cell_type": "code",
      "source": [
        "# Apply the function to all the audio files\n",
        "transcription_df[\"transcriptions\"] = transcription_df[\"file_name\"].apply(lambda f_name: audio_to_text(f_name))"
      ],
      "metadata": {
        "id": "1Lx7D--B87c7"
      },
      "execution_count": null,
      "outputs": []
    },
    {
      "cell_type": "code",
      "source": [
        "# Show the first five rows\n",
        "transcription_df.head()"
      ],
      "metadata": {
        "colab": {
          "base_uri": "https://localhost:8080/",
          "height": 98
        },
        "id": "tnIUCGfw891v",
        "outputId": "9e269748-3d64-49a5-913a-2d96129c0c9b"
      },
      "execution_count": null,
      "outputs": [
        {
          "output_type": "execute_result",
          "data": {
            "text/plain": [
              "                                          URLs  \\\n",
              "0  https://www.youtube.com/watch?v=CXiAoaMPXdU   \n",
              "\n",
              "                                         file_name  \\\n",
              "0  /content/audio_data/Kaj_je_metoda_bisekcije.mp3   \n",
              "\n",
              "                                      transcriptions  \n",
              "0   V tem kratkem poglavju si bomo pogledali post...  "
            ],
            "text/html": [
              "\n",
              "  <div id=\"df-e7124dd3-2619-4500-9c9c-3c31439e522e\" class=\"colab-df-container\">\n",
              "    <div>\n",
              "<style scoped>\n",
              "    .dataframe tbody tr th:only-of-type {\n",
              "        vertical-align: middle;\n",
              "    }\n",
              "\n",
              "    .dataframe tbody tr th {\n",
              "        vertical-align: top;\n",
              "    }\n",
              "\n",
              "    .dataframe thead th {\n",
              "        text-align: right;\n",
              "    }\n",
              "</style>\n",
              "<table border=\"1\" class=\"dataframe\">\n",
              "  <thead>\n",
              "    <tr style=\"text-align: right;\">\n",
              "      <th></th>\n",
              "      <th>URLs</th>\n",
              "      <th>file_name</th>\n",
              "      <th>transcriptions</th>\n",
              "    </tr>\n",
              "  </thead>\n",
              "  <tbody>\n",
              "    <tr>\n",
              "      <th>0</th>\n",
              "      <td>https://www.youtube.com/watch?v=CXiAoaMPXdU</td>\n",
              "      <td>/content/audio_data/Kaj_je_metoda_bisekcije.mp3</td>\n",
              "      <td>V tem kratkem poglavju si bomo pogledali post...</td>\n",
              "    </tr>\n",
              "  </tbody>\n",
              "</table>\n",
              "</div>\n",
              "    <div class=\"colab-df-buttons\">\n",
              "\n",
              "  <div class=\"colab-df-container\">\n",
              "    <button class=\"colab-df-convert\" onclick=\"convertToInteractive('df-e7124dd3-2619-4500-9c9c-3c31439e522e')\"\n",
              "            title=\"Convert this dataframe to an interactive table.\"\n",
              "            style=\"display:none;\">\n",
              "\n",
              "  <svg xmlns=\"http://www.w3.org/2000/svg\" height=\"24px\" viewBox=\"0 -960 960 960\">\n",
              "    <path d=\"M120-120v-720h720v720H120Zm60-500h600v-160H180v160Zm220 220h160v-160H400v160Zm0 220h160v-160H400v160ZM180-400h160v-160H180v160Zm440 0h160v-160H620v160ZM180-180h160v-160H180v160Zm440 0h160v-160H620v160Z\"/>\n",
              "  </svg>\n",
              "    </button>\n",
              "\n",
              "  <style>\n",
              "    .colab-df-container {\n",
              "      display:flex;\n",
              "      gap: 12px;\n",
              "    }\n",
              "\n",
              "    .colab-df-convert {\n",
              "      background-color: #E8F0FE;\n",
              "      border: none;\n",
              "      border-radius: 50%;\n",
              "      cursor: pointer;\n",
              "      display: none;\n",
              "      fill: #1967D2;\n",
              "      height: 32px;\n",
              "      padding: 0 0 0 0;\n",
              "      width: 32px;\n",
              "    }\n",
              "\n",
              "    .colab-df-convert:hover {\n",
              "      background-color: #E2EBFA;\n",
              "      box-shadow: 0px 1px 2px rgba(60, 64, 67, 0.3), 0px 1px 3px 1px rgba(60, 64, 67, 0.15);\n",
              "      fill: #174EA6;\n",
              "    }\n",
              "\n",
              "    .colab-df-buttons div {\n",
              "      margin-bottom: 4px;\n",
              "    }\n",
              "\n",
              "    [theme=dark] .colab-df-convert {\n",
              "      background-color: #3B4455;\n",
              "      fill: #D2E3FC;\n",
              "    }\n",
              "\n",
              "    [theme=dark] .colab-df-convert:hover {\n",
              "      background-color: #434B5C;\n",
              "      box-shadow: 0px 1px 3px 1px rgba(0, 0, 0, 0.15);\n",
              "      filter: drop-shadow(0px 1px 2px rgba(0, 0, 0, 0.3));\n",
              "      fill: #FFFFFF;\n",
              "    }\n",
              "  </style>\n",
              "\n",
              "    <script>\n",
              "      const buttonEl =\n",
              "        document.querySelector('#df-e7124dd3-2619-4500-9c9c-3c31439e522e button.colab-df-convert');\n",
              "      buttonEl.style.display =\n",
              "        google.colab.kernel.accessAllowed ? 'block' : 'none';\n",
              "\n",
              "      async function convertToInteractive(key) {\n",
              "        const element = document.querySelector('#df-e7124dd3-2619-4500-9c9c-3c31439e522e');\n",
              "        const dataTable =\n",
              "          await google.colab.kernel.invokeFunction('convertToInteractive',\n",
              "                                                    [key], {});\n",
              "        if (!dataTable) return;\n",
              "\n",
              "        const docLinkHtml = 'Like what you see? Visit the ' +\n",
              "          '<a target=\"_blank\" href=https://colab.research.google.com/notebooks/data_table.ipynb>data table notebook</a>'\n",
              "          + ' to learn more about interactive tables.';\n",
              "        element.innerHTML = '';\n",
              "        dataTable['output_type'] = 'display_data';\n",
              "        await google.colab.output.renderOutput(dataTable, element);\n",
              "        const docLink = document.createElement('div');\n",
              "        docLink.innerHTML = docLinkHtml;\n",
              "        element.appendChild(docLink);\n",
              "      }\n",
              "    </script>\n",
              "  </div>\n",
              "\n",
              "    </div>\n",
              "  </div>\n"
            ],
            "application/vnd.google.colaboratory.intrinsic+json": {
              "type": "dataframe",
              "variable_name": "transcription_df",
              "summary": "{\n  \"name\": \"transcription_df\",\n  \"rows\": 1,\n  \"fields\": [\n    {\n      \"column\": \"URLs\",\n      \"properties\": {\n        \"dtype\": \"string\",\n        \"samples\": [\n          \"https://www.youtube.com/watch?v=CXiAoaMPXdU\"\n        ],\n        \"num_unique_values\": 1,\n        \"semantic_type\": \"\",\n        \"description\": \"\"\n      }\n    },\n    {\n      \"column\": \"file_name\",\n      \"properties\": {\n        \"dtype\": \"string\",\n        \"samples\": [\n          \"/content/audio_data/Kaj_je_metoda_bisekcije.mp3\"\n        ],\n        \"num_unique_values\": 1,\n        \"semantic_type\": \"\",\n        \"description\": \"\"\n      }\n    },\n    {\n      \"column\": \"transcriptions\",\n      \"properties\": {\n        \"dtype\": \"string\",\n        \"samples\": [\n          \" V tem kratkem poglavju si bomo pogledali postopek, ki se imenuje metoda bisekcije. In verjetno se zaspra\\u0161ujete, kaj je metoda bisekcije. Dajmo mi zapisati en polinom, se pravi p od x bo x na 5 plus 2x minus 1. In \\u010de ho\\u010demo mi narisati graf tega polinoma, je ena od stvari, ki jih moramo zra\\u010dunati, so ni\\u010dle. To so to\\u010dke, kjer sekamo abscisno os. S tem smo se zdaj veliko ukvarjali. Rekli smo, da lahko polinomu dolo\\u010dimo realne oziroma kompleksne ni\\u010dle. In tale polinom je 5 stopnje in lahko ima vse ni\\u010dle realne, lahko ima eno realno pa \\u0161teri kompleksne ni\\u010dle, zato ker kompleksne ni\\u010dle vedno nastopajo v konjugiranih parih. Lahko ima pa tri realne pa dve. Dve kompleksni ni\\u010dli. Ampak \\u010de mi zra\\u010dunamo realne ni\\u010dle, lahko zra\\u010dunamo celo\\u0161tevilske oziroma racionalne ni\\u010dle. Ampak lahko pa dobimo tudi iracionalne ni\\u010dle in metoda bisekcije je iskanje iracionalnih ni\\u010dev. Zdaj, \\u010de se spomnimo, kaj je iracionalno \\u0161tevilo, to je \\u0161tevilo, ki ga ne moramo zapisati v obliki ulomka in ima neskon\\u010dno decimalk. Torej, dete si zapomni, da je metoda bisekcije postopek, s katerim poi\\u0161\\u010demo iracionalne ni\\u010dle. Tako da mi smo \\u017ee ugotovili, kako, oziroma smo se nau\\u010dili, kako poiskati celo\\u0161tevilske ni\\u010dle, kako poiskati racionalne ni\\u010dle, no zdaj pa \\u0161e metoda bisekcije za decimalk. In tudi za iskanje iracionalnih ni\\u010del. Dajmo si pogledati graf tega polinoma. Kot lahko vidimo, ima samo eno to\\u010dko, kjer sekamo x oz. To pomeni, da je ta ni\\u010dla realna, vse ostale \\u0161terje, ker gre za polinom pete stopnje, so pa kompleksne. No in vidimo, da ta ni\\u010dla le\\u017ei na intervalu med ni\\u010d in ena. In \\u010de bi jaz tole pribli\\u017eil, bi videl, da kaj je zdaj dobimo eno decimalko. Pa \\u010de bi \\u0161e malo pribli\\u017eil, bi videl, da \\u0161e dobimo decimalko. Se pravi, tukaj je bolj natan\\u010den, kot je lahko graf, ve\\u010dje bo \\u0161tevilo teh decimalk. In teh decimalk je neskon\\u010dno. No in metoda bisekcije pomeni, da mi skozi prepolavljamo tale interval in i\\u0161\\u010demo tisto to\\u010dko. In koliko natan\\u010dno ho\\u010demo, je samo odvisno od tega, kako se odlo\\u010dimo. Tako da pogledamo, kako to naredimo. Najprej, dejmo zapisati ta interval. Se pravi, mi imamo interval od ni\\u010d do ena. Se pravi, nekje tukaj vmes je na\\u0161a ni\\u010dla. Tole je os x. Se pravi, tukaj bi imel pa potem takole os y. No in mi bomo zdaj ustavljali vrednosti v na\\u0161 polinom. Najprej bomo ustavljali p ni\\u010d. Se pravi, \\u010de ustavljamo. Se pravi, \\u010de ustavljamo. Vstavljamo ni\\u010dlo sem le noter. Sem jaz zdaj pripravil en tako kalkulator. Se pravi, \\u010de ustavljam, da je x ni\\u010d, dobim minus ena. To bi lahko tudi na pamet zra\\u010dunal. Minus ena. Potem moramo pa ustaviti \\u0161e enko. Dejmo ustaviti \\u0161e enko. Kaj dobimo? Poglejmo. Se pravi, \\u010de ustavljamo enko v na\\u0161 polinom, dobimo pa dve. Tole je negativno \\u0161tevilo, zato pri ni\\u010dli naredimo eno tako piko spodaj. Ker to pomeni, da bi graf bil tukaj negativen. Pri enki imamo pa graf oziroma polinom ka\\u017ee na dve, zato piko naredimo zgorje. Ker je dvojka ve\\u010dja od ni\\u010d. Zdaj bomo pa ta interval prepolovili. Se pravi, formula za izra\\u010dun te le to\\u010dke. S je a plus b polovica. \\u010ce je tole a, pa tole b, bomo rekli, da ni\\u010d plus ena je potem ena polovica. Se pravi, zdaj izra\\u010dunamo, kak\\u0161no vrednost nam da polinom, \\u010de ustavimo eno polovico. Se pravi, to je ni\\u010d cela pet. Dobimo ni\\u010d cela ni\\u010d tri ena dva pet. Bome to zaokro\\u017eili na ni\\u010d cela ni\\u010d tri. Ker je zdaj to vrednost ve\\u010dja od ni\\u010d, bomo rde\\u010do piko naredili tukaj zgorje. In kaj zdaj to pomeni? Kaj pomenijo te pike? To pomeni, da bo na\\u0161 graf sekal tole x os nekje na temu intervalu. Zato zdaj pozabimo tole in se osredoto\\u010dimo na to. Se pravi, bomo zdaj spet naredili bi sekcijo. Ta interval med ni\\u010d in c, tole je ena polovica, bomo zdaj razdelili. \\u010ce to razdelimo, dobimo eno \\u010detrtino. Zdaj izra\\u010dunamo vrednost polinoma v eni \\u010detrtini. Ena \\u010detrtina vemo, da je ni\\u010d cela pet in dvejsat. In dobimo minus ni\\u010d cela \\u0161est. Zdaj, kaj je to? Ni\\u010d cela \\u0161est. Ni\\u010d cela \\u0161tiri devet devet. Torej, minus ni\\u010d cela \\u0161tiri devet devet. Ta vrednost je pa zdaj manj\\u0161a od ni\\u010d. Zato rde\\u010do piko naredimo tukaj. In kaj nam zdaj pove ta pika? Ta pika nam pove, da bo na\\u0161 graf sekal x os nekje na temu intervalu. Se pravi, med eno \\u010detrtino in eno polovico. Kaj to pomeni? To pomeni, da moramo zdaj poiskati razpolovi\\u0161\\u010de tega intervala. In to je tukaj, in sicer to so tri osmine. \\u010ce bi ustavil ena \\u010detrtina plus ena polovica, pa bi dal to na pol, bi dobili tri osmine. In nadaljujemo postopek. Nari\\u0161emo p, upi\\u0161emo to vrednost, se pravi tri osmine, damo v na\\u0161 interval. In nadaljujemo postopek. Nari\\u0161emo p, upi\\u0161emo to vrednost, se pravi tri osmine, damo v na\\u0161 interval. Tri osmine so 0,375 in dobimo minus 0,242. Torej minus 0,242. To pomeni, da smo dobili vrednost manj\\u0161o od ni\\u010d, zato piko nari\\u0161emo spodaj. In vidimo, zdaj se pribli\\u017eujemo, vedno manj\\u0161i bo ta interval. Se pravi graf bi bil zdaj nekje tukaj v mestu. Tukaj nekje v mestu bi graf tega polinoma sekal na\\u0161o abscisno os. To pomeni, da moramo zdaj poiskati tole razpolovi\\u0161\\u010de. Se pravi, kak\\u0161na je tukaj vrednost. In ta vrednost je sedemnaest \\u0161esnaestin. Pardon, ne sedemnaest, ampak sedem. Sedem \\u0161esnaestin. Se pravi, ustavimo. Se pravi, ustavimo. P, sedem \\u0161esnaestin. V decimalni vrednosti je to 0,4375. In dobimo minus 0,109. Torej minus 0,109. Spet, ta vrednost je manj\\u0161a od ni\\u010d, zato tukaj naredimo piko. In zdaj smo spet zmanj\\u0161ali interval. Torej na\\u0161 graf bi sekal x os nekje tukaj v mest. In zdaj to nadaljujemo. In vidimo, da tole lahko nadaljujemo v neskon\\u010dnost. Zato bomo zdaj tukaj samo napisali. Mi dobimo petnaest dva in tridesetin. \\u010ce damo tole na pol, tukaj v mest. Se pravi, tukaj v mest je zdaj neka nova to\\u010dka. In dobimo, \\u010de ustavimo v graf, dobimo minus ni\\u010d cela ni\\u010d tri devet osem. Se pravi, piko bi narisal v spodi. In to bi pomenil, da bi graf sekal tukaj. Na tem me\\u010dkanem intervalu bi sekal na\\u0161o x os. Se pravi, tukaj je v mest petnaest dva in tridesetin. Potem poi\\u0161\\u010demo novo razpoli\\u010denje. Potem poi\\u0161\\u010demo novo razpoli\\u010denje. Potem poi\\u0161\\u010demo novo razpoli\\u010denje. Potem pripravimo razpolovi\\u0161\\u010de, ki je tukaj v mest. In kaj dobimo? Dobimo p. In to razpolovi\\u0161\\u010de je ena in trideset \\u0161tren \\u0161estdesetin. In tukaj je vrednost minus ni\\u010d cela ni\\u010d \\u0161teri. Ne, \\u0161e ena ni\\u010d cela ni\\u010d. No. Ni\\u010d \\u0161teri. Kar pomeni, da je spet negativna. Naredi\\u0161emo kajle piko? Se pravi, bi mogli zdaj \\u0161e tale intervala, to je pa zdaj res zadni\\u010d, \\u0161e ta interval razpolovimo in dobimo vrednost 63,128. In ko to ostavimo, dobimo ni\\u010d cela ni\\u010d, 13. To pa pomeni, da bi tukaj narisal piko zgorej. In bi dobil nekak \\u017ee ta pribli\\u017eek. Katere \\u0161tevilke moramo zdaj gledati? Jaz jih zraven nisem zapisoval, ampak tukaj smo mi ustavili ni\\u010d cela 25. Potem smo ustavili ni\\u010d cela 3,75. To so tole, kar je v oklepaju. Zdaj bom napisal zeleno zraven. Potem tukaj smo ustavili ni\\u010d cela 4,375. Potem smo ustavili ni\\u010d cela 4,6,8,7,5. Potem. Potem ni\\u010d cela 4,8,4,3,7,5. No in na koncu ni\\u010d cela 4,9,2,1,8,7,5. In \\u010de pogledamo zdaj na graf, je na\\u0161a ni\\u010dla ni\\u010d cela 4,8,6. In vidimo, da ni\\u010d cela 4,8,6. In vidimo, da ni\\u010d cela 4,8,6. Le\\u017ei ravno vmes med tema dvema vrednostima. Se pravi takole. In \\u010de bi mi nadaljeval to metodo bisekcije, bi se vedno bolj pribli\\u017eeval tejle vrednosti. Tako da ta metoda bisekcije je, to je zelo tak tehni\\u010den postopek. In tudi videli ste, da sem jaz oporabil, da bi se pripravil. Videli ste, da sem jaz oporabil Excel zraven za ra\\u010dunanje to\\u010dnih vrednosti. In to ponavadi po\\u010dnejo ra\\u010dunalniki.\"\n        ],\n        \"num_unique_values\": 1,\n        \"semantic_type\": \"\",\n        \"description\": \"\"\n      }\n    }\n  ]\n}"
            }
          },
          "metadata": {},
          "execution_count": 20
        }
      ]
    }
  ]
}